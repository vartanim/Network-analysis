{
 "cells": [
  {
   "cell_type": "code",
   "execution_count": 321,
   "metadata": {},
   "outputs": [],
   "source": [
    "import itertools\n",
    "import pandas as pd\n",
    "import numpy as np\n",
    "import networkx as nx\n",
    "import plotly.graph_objects as go\n",
    "import matplotlib\n",
    "import matplotlib.pyplot as plt\n",
    "import pyvis as pv\n",
    "from pyvis.network import Network\n",
    "import random"
   ]
  },
  {
   "cell_type": "markdown",
   "metadata": {},
   "source": [
    "# NetworkX + Pyvis vizualization "
   ]
  },
  {
   "cell_type": "markdown",
   "metadata": {},
   "source": [
    "Generate simulation data. "
   ]
  },
  {
   "cell_type": "code",
   "execution_count": 322,
   "metadata": {},
   "outputs": [
    {
     "data": {
      "text/html": [
       "<div>\n",
       "<style scoped>\n",
       "    .dataframe tbody tr th:only-of-type {\n",
       "        vertical-align: middle;\n",
       "    }\n",
       "\n",
       "    .dataframe tbody tr th {\n",
       "        vertical-align: top;\n",
       "    }\n",
       "\n",
       "    .dataframe thead th {\n",
       "        text-align: right;\n",
       "    }\n",
       "</style>\n",
       "<table border=\"1\" class=\"dataframe\">\n",
       "  <thead>\n",
       "    <tr style=\"text-align: right;\">\n",
       "      <th></th>\n",
       "      <th>source</th>\n",
       "      <th>target</th>\n",
       "      <th>weight</th>\n",
       "    </tr>\n",
       "  </thead>\n",
       "  <tbody>\n",
       "    <tr>\n",
       "      <th>0</th>\n",
       "      <td>154</td>\n",
       "      <td>237</td>\n",
       "      <td>239</td>\n",
       "    </tr>\n",
       "    <tr>\n",
       "      <th>1</th>\n",
       "      <td>150</td>\n",
       "      <td>115</td>\n",
       "      <td>103</td>\n",
       "    </tr>\n",
       "    <tr>\n",
       "      <th>2</th>\n",
       "      <td>46</td>\n",
       "      <td>249</td>\n",
       "      <td>188</td>\n",
       "    </tr>\n",
       "    <tr>\n",
       "      <th>3</th>\n",
       "      <td>109</td>\n",
       "      <td>145</td>\n",
       "      <td>144</td>\n",
       "    </tr>\n",
       "    <tr>\n",
       "      <th>4</th>\n",
       "      <td>221</td>\n",
       "      <td>12</td>\n",
       "      <td>96</td>\n",
       "    </tr>\n",
       "  </tbody>\n",
       "</table>\n",
       "</div>"
      ],
      "text/plain": [
       "   source  target  weight\n",
       "0     154     237     239\n",
       "1     150     115     103\n",
       "2      46     249     188\n",
       "3     109     145     144\n",
       "4     221      12      96"
      ]
     },
     "execution_count": 322,
     "metadata": {},
     "output_type": "execute_result"
    }
   ],
   "source": [
    "# generate a random data set with edges and their weights  \n",
    "np.random.seed(888) # set a seed to make result reproducible \n",
    "df = pd.DataFrame(np.random.randint(low=0,high=250,size=(1000, 3)), columns=['source', 'target', 'weight'])\n",
    "df.head()"
   ]
  },
  {
   "cell_type": "code",
   "execution_count": 323,
   "metadata": {},
   "outputs": [
    {
     "data": {
      "text/html": [
       "<div>\n",
       "<style scoped>\n",
       "    .dataframe tbody tr th:only-of-type {\n",
       "        vertical-align: middle;\n",
       "    }\n",
       "\n",
       "    .dataframe tbody tr th {\n",
       "        vertical-align: top;\n",
       "    }\n",
       "\n",
       "    .dataframe thead th {\n",
       "        text-align: right;\n",
       "    }\n",
       "</style>\n",
       "<table border=\"1\" class=\"dataframe\">\n",
       "  <thead>\n",
       "    <tr style=\"text-align: right;\">\n",
       "      <th></th>\n",
       "      <th>source</th>\n",
       "      <th>target</th>\n",
       "      <th>weight</th>\n",
       "    </tr>\n",
       "  </thead>\n",
       "  <tbody>\n",
       "    <tr>\n",
       "      <th>0</th>\n",
       "      <td>154</td>\n",
       "      <td>237</td>\n",
       "      <td>24.0</td>\n",
       "    </tr>\n",
       "    <tr>\n",
       "      <th>1</th>\n",
       "      <td>150</td>\n",
       "      <td>115</td>\n",
       "      <td>10.0</td>\n",
       "    </tr>\n",
       "    <tr>\n",
       "      <th>2</th>\n",
       "      <td>46</td>\n",
       "      <td>249</td>\n",
       "      <td>19.0</td>\n",
       "    </tr>\n",
       "    <tr>\n",
       "      <th>3</th>\n",
       "      <td>109</td>\n",
       "      <td>145</td>\n",
       "      <td>14.0</td>\n",
       "    </tr>\n",
       "    <tr>\n",
       "      <th>4</th>\n",
       "      <td>221</td>\n",
       "      <td>12</td>\n",
       "      <td>10.0</td>\n",
       "    </tr>\n",
       "  </tbody>\n",
       "</table>\n",
       "</div>"
      ],
      "text/plain": [
       "   source  target  weight\n",
       "0     154     237    24.0\n",
       "1     150     115    10.0\n",
       "2      46     249    19.0\n",
       "3     109     145    14.0\n",
       "4     221      12    10.0"
      ]
     },
     "execution_count": 323,
     "metadata": {},
     "output_type": "execute_result"
    }
   ],
   "source": [
    "# weight parameter is too large, so divide it by 10\n",
    "df['weight'] = round(df['weight']/10)\n",
    "df.head()"
   ]
  },
  {
   "cell_type": "code",
   "execution_count": 324,
   "metadata": {},
   "outputs": [
    {
     "data": {
      "text/plain": [
       "4.0     58\n",
       "22.0    53\n",
       "8.0     52\n",
       "6.0     50\n",
       "10.0    46\n",
       "15.0    44\n",
       "9.0     41\n",
       "5.0     40\n",
       "24.0    40\n",
       "20.0    40\n",
       "11.0    40\n",
       "12.0    39\n",
       "2.0     39\n",
       "14.0    39\n",
       "3.0     38\n",
       "23.0    38\n",
       "16.0    36\n",
       "13.0    35\n",
       "1.0     35\n",
       "21.0    35\n",
       "7.0     33\n",
       "18.0    33\n",
       "17.0    31\n",
       "19.0    31\n",
       "0.0     18\n",
       "25.0    16\n",
       "Name: weight, dtype: int64"
      ]
     },
     "execution_count": 324,
     "metadata": {},
     "output_type": "execute_result"
    }
   ],
   "source": [
    "# check weights distribution\n",
    "df.weight.value_counts()"
   ]
  },
  {
   "cell_type": "markdown",
   "metadata": {},
   "source": [
    "With data ready at our disposal, we can start with basic *pyvis*+*networkX* graph. By \"basic\" I mean plotting a *pyvis* network based on *networkX* node positioning algorithm; no additional manipulations with edges or nodes, no clustering, etc."
   ]
  },
  {
   "cell_type": "code",
   "execution_count": 325,
   "metadata": {},
   "outputs": [],
   "source": [
    "# get lists of nodes and connections(edges)\n",
    "list_of_edges = df.values.tolist()\n",
    "list_of_nodes = list(set(list(df.source) + list(df.target))) # need a set of unigue values from the entire dataset "
   ]
  },
  {
   "cell_type": "code",
   "execution_count": 326,
   "metadata": {},
   "outputs": [],
   "source": [
    "g = nx.Graph() # make an empty graph object with NetworkX\n",
    "g.add_weighted_edges_from(list_of_edges) # add edges to the graph"
   ]
  },
  {
   "cell_type": "code",
   "execution_count": 327,
   "metadata": {},
   "outputs": [],
   "source": [
    "# I use networkX spring layout (a node positioning algorithm) to calculate coordinates for nodes in my graph \n",
    "pos = nx.spring_layout(g, k=1, seed=555)\n",
    "pos_df = (pd.DataFrame(pos).T)*2000 # scale coordinates by multiplying them with 2000\n",
    "pos_x = list(pos_df[0]) # coords for X axis \n",
    "pos_y = list(pos_df[1]) # coords for Y axis"
   ]
  },
  {
   "cell_type": "code",
   "execution_count": 328,
   "metadata": {},
   "outputs": [],
   "source": [
    "# having coordinates, I can set them in a pyvis network to visualize the graph \n",
    "net = Network(\"600px\", \"700px\", notebook=True) \n",
    "# disable physics because our graph is pretty large and it would take too long for it to render + nodes will move too fast: \n",
    "net.toggle_physics(False) \n",
    "# similar way as above, add nodes and edges in the network \n",
    "net.add_nodes(list_of_nodes,\n",
    "       x=pos_x,\n",
    "       y=pos_y)\n",
    "# instead of adding edges from the list_of_edges, I am adding them straight from networkX graph object:\n",
    "net.add_edges(list(g.edges))\n",
    "net.inherit_edge_colors(False) # set this option to False because I don't want edges to have the same color as nodes\n",
    "net.set_edge_smooth('horizontal') # similarly, I want edges to have a nice smooth shape"
   ]
  },
  {
   "cell_type": "code",
   "execution_count": 329,
   "metadata": {},
   "outputs": [
    {
     "data": {
      "text/html": [
       "\n",
       "        <iframe\n",
       "            width=\"700px\"\n",
       "            height=\"600px\"\n",
       "            src=\"network_graph.html\"\n",
       "            frameborder=\"0\"\n",
       "            allowfullscreen\n",
       "        ></iframe>\n",
       "        "
      ],
      "text/plain": [
       "<IPython.lib.display.IFrame at 0xf52b7c0>"
      ]
     },
     "execution_count": 329,
     "metadata": {},
     "output_type": "execute_result"
    }
   ],
   "source": [
    "net.show('network_graph.html')"
   ]
  },
  {
   "cell_type": "markdown",
   "metadata": {},
   "source": [
    "Looks like there are too many edges and nodes. We can remove them straight from networkX graph object:"
   ]
  },
  {
   "cell_type": "code",
   "execution_count": 330,
   "metadata": {},
   "outputs": [],
   "source": [
    "# remove all nodes that e.g. have weight smaller than 20\n",
    "to_remove = [(a,b) for a, b, attrs in g.edges(data=True) if attrs[\"weight\"] < 20]\n",
    "g.remove_edges_from(to_remove)"
   ]
  },
  {
   "cell_type": "code",
   "execution_count": 331,
   "metadata": {},
   "outputs": [],
   "source": [
    "# get rid of \"lonely\" nodes that were left with no edges:\n",
    "isolated_nodes = list(nx.isolates(g))\n",
    "g.remove_nodes_from(isolated_nodes)"
   ]
  },
  {
   "cell_type": "code",
   "execution_count": 332,
   "metadata": {},
   "outputs": [],
   "source": [
    "# calculate new list of nodes for the pyvis graph\n",
    "new_list_of_nodes = [j for j in list_of_nodes if j not in isolated_nodes]"
   ]
  },
  {
   "cell_type": "code",
   "execution_count": 333,
   "metadata": {},
   "outputs": [],
   "source": [
    "# draw the new graph:\n",
    "pos = nx.spring_layout(g, k=1, seed=555) # slightly adjusted edges lengt in the layout with argument k\n",
    "pos_df = (pd.DataFrame(pos).T)*2000 # scale coordinates \n",
    "pos_x = list(pos_df[0]) # new coords for X axis \n",
    "pos_y = list(pos_df[1]) # new coords for Y axis\n",
    "net = Network(\"600px\", \"700px\", notebook=True) \n",
    "# disable physics  \n",
    "net.toggle_physics(False) \n",
    "net.add_nodes(new_list_of_nodes, # use new reduced list of nodes instead of the old one \n",
    "       x=pos_x, # use new coordinates \n",
    "       y=pos_y)\n",
    "# instead of adding edges from the list_of_edges, I am adding them straight from networkX graph object, because\n",
    "# this way I do not need to calculate new list of edges \n",
    "net.add_edges(list(g.edges))\n",
    "net.inherit_edge_colors(False)\n",
    "net.set_edge_smooth('horizontal')"
   ]
  },
  {
   "cell_type": "code",
   "execution_count": 334,
   "metadata": {},
   "outputs": [
    {
     "data": {
      "text/html": [
       "\n",
       "        <iframe\n",
       "            width=\"700px\"\n",
       "            height=\"600px\"\n",
       "            src=\"network_graph.html\"\n",
       "            frameborder=\"0\"\n",
       "            allowfullscreen\n",
       "        ></iframe>\n",
       "        "
      ],
      "text/plain": [
       "<IPython.lib.display.IFrame at 0xf4884d8>"
      ]
     },
     "execution_count": 334,
     "metadata": {},
     "output_type": "execute_result"
    }
   ],
   "source": [
    "net.show('network_graph.html') # this looks much prettier "
   ]
  }
 ],
 "metadata": {
  "kernelspec": {
   "display_name": "Python 3",
   "language": "python",
   "name": "python3"
  },
  "language_info": {
   "codemirror_mode": {
    "name": "ipython",
    "version": 3
   },
   "file_extension": ".py",
   "mimetype": "text/x-python",
   "name": "python",
   "nbconvert_exporter": "python",
   "pygments_lexer": "ipython3",
   "version": "3.8.5"
  }
 },
 "nbformat": 4,
 "nbformat_minor": 4
}
